{
 "cells": [
  {
   "cell_type": "code",
   "execution_count": 43,
   "id": "204c3c1c-d27b-482e-bcc9-3974c534e7a8",
   "metadata": {},
   "outputs": [
    {
     "name": "stdout",
     "output_type": "stream",
     "text": [
      "* * * * * \n",
      "* * * * * \n",
      "* * * * * \n",
      "* * * * * \n",
      "* * * * * \n"
     ]
    }
   ],
   "source": [
    "\"\"\"\n",
    "* * * * \n",
    "* * * * \n",
    "* * * * \n",
    "* * * * \n",
    "\"\"\"\n",
    "def pattern1(n):\n",
    "    for i in range(n):\n",
    "        for j in range(n):\n",
    "            print(\"* \", end = \"\")\n",
    "\n",
    "        print()\n",
    "\n",
    "pattern1(5)"
   ]
  },
  {
   "cell_type": "code",
   "execution_count": 46,
   "id": "7d8dfd02-760c-4ea6-81ae-a83f1a003c0d",
   "metadata": {},
   "outputs": [
    {
     "name": "stdout",
     "output_type": "stream",
     "text": [
      "\n",
      "* \n",
      "* * \n",
      "* * * \n",
      "* * * * \n",
      "* * * * * \n"
     ]
    }
   ],
   "source": [
    "\"\"\"\n",
    "* \n",
    "* * \n",
    "* * * \n",
    "* * * * \n",
    "* * * * * \n",
    "\"\"\"\n",
    "\n",
    "def pattern2(n):\n",
    "    for i in range(n+1):\n",
    "        for j in range(i):\n",
    "            print(\"* \", end =\"\")\n",
    "\n",
    "        print()\n",
    "\n",
    "pattern2(5)"
   ]
  },
  {
   "cell_type": "code",
   "execution_count": 53,
   "id": "8c815400-a3d3-4cf8-836f-cf581fa9c886",
   "metadata": {},
   "outputs": [
    {
     "name": "stdout",
     "output_type": "stream",
     "text": [
      "1 \n",
      "1 2 \n",
      "1 2 3 \n",
      "1 2 3 4 \n",
      "1 2 3 4 5 \n"
     ]
    }
   ],
   "source": [
    "\"\"\"\n",
    "1 \n",
    "1 2 \n",
    "1 2 3 \n",
    "1 2 3 4 \n",
    "1 2 3 4 5 \n",
    "\"\"\"\n",
    "\n",
    "def pattern3(n):\n",
    "    for i in range(1,n+1):\n",
    "        for j in range(1,i+1):\n",
    "            print(j, end =\" \")\n",
    "\n",
    "        print()\n",
    "\n",
    "pattern3(5)"
   ]
  },
  {
   "cell_type": "code",
   "execution_count": 58,
   "id": "df55177e-466a-4d01-a18b-e24f05afd5c8",
   "metadata": {},
   "outputs": [
    {
     "name": "stdout",
     "output_type": "stream",
     "text": [
      "1 \n",
      "2 2 \n",
      "3 3 3 \n",
      "4 4 4 4 \n",
      "5 5 5 5 5 \n"
     ]
    }
   ],
   "source": [
    "\"\"\"\n",
    "1 \n",
    "2 2 \n",
    "3 3 3 \n",
    "4 4 4 4 \n",
    "5 5 5 5 5 \n",
    "\"\"\"\n",
    "def pattern4(n):\n",
    "    for i in range(1,n + 1):\n",
    "        for j in range(1, i+1):\n",
    "            print(i, end=\" \")\n",
    "        print()\n",
    "\n",
    "pattern4(5)"
   ]
  },
  {
   "cell_type": "code",
   "execution_count": 71,
   "id": "ae1e88c0-3c1d-4a70-a95c-3fd23dabe9f2",
   "metadata": {},
   "outputs": [
    {
     "name": "stdout",
     "output_type": "stream",
     "text": [
      "* * * * * \n",
      "* * * * \n",
      "* * * \n",
      "* * \n",
      "* \n"
     ]
    }
   ],
   "source": [
    "\"\"\"\n",
    "* * * * * \n",
    "* * * * \n",
    "* * * \n",
    "* * \n",
    "*\n",
    "\"\"\"\n",
    "\n",
    "def pattern5(n):\n",
    "    for i in range(1,n+1):\n",
    "        for j in range(0,n-i+1):\n",
    "            print(\"* \", end = \"\")\n",
    "\n",
    "        print()\n",
    "\n",
    "pattern5(5)"
   ]
  },
  {
   "cell_type": "code",
   "execution_count": 70,
   "id": "d0f5f2e4-826b-4d8f-a471-ee9475d83cc8",
   "metadata": {},
   "outputs": [
    {
     "name": "stdout",
     "output_type": "stream",
     "text": [
      "1 2 3 4 5 \n",
      "1 2 3 4 \n",
      "1 2 3 \n",
      "1 2 \n",
      "1 \n"
     ]
    }
   ],
   "source": [
    "\"\"\"\n",
    "1 2 3 4 5 \n",
    "1 2 3 4 \n",
    "1 2 3 \n",
    "1 2 \n",
    "1 \n",
    "\"\"\"\n",
    "\n",
    "def pattern6(n):\n",
    "    for i in range(1,n+1):\n",
    "        for j in range(1,n-i+2):\n",
    "            print(j, end = \" \")\n",
    "\n",
    "        print()\n",
    "\n",
    "pattern6(5)"
   ]
  },
  {
   "cell_type": "code",
   "execution_count": 86,
   "id": "ef10a0c9-4c5f-4047-a5b1-f4ed37104db9",
   "metadata": {},
   "outputs": [
    {
     "name": "stdout",
     "output_type": "stream",
     "text": [
      "        * \n",
      "      * * * \n",
      "    * * * * * \n",
      "  * * * * * * * \n",
      "* * * * * * * * * \n"
     ]
    }
   ],
   "source": [
    "\"\"\"\n",
    "        * \n",
    "      * * * \n",
    "    * * * * * \n",
    "  * * * * * * * \n",
    "* * * * * * * * * \n",
    "\"\"\"\n",
    "\n",
    "\n",
    "def pattern7(n):\n",
    "    for i in range(n):\n",
    "        #space\n",
    "        for j in range(n-i-1):\n",
    "            print(\" \", end = \" \")\n",
    "        # star\n",
    "        for j in range(2*i+1):\n",
    "            print(\"*\", end = \" \")\n",
    "\n",
    "        print()\n",
    "        \n",
    "pattern7(5)"
   ]
  },
  {
   "cell_type": "code",
   "execution_count": 96,
   "id": "dbbe4c1e-25bf-4484-b32e-f988cb0d4bad",
   "metadata": {},
   "outputs": [
    {
     "name": "stdout",
     "output_type": "stream",
     "text": [
      "* * * * * * * * * \n",
      "  * * * * * * * \n",
      "    * * * * * \n",
      "      * * * \n",
      "        * \n"
     ]
    }
   ],
   "source": [
    "\"\"\"\n",
    "* * * * * * * * * \n",
    "  * * * * * * * \n",
    "    * * * * * \n",
    "      * * * \n",
    "        * \n",
    "\"\"\"\n",
    "\n",
    "def pattern8(n):\n",
    "    for i in range(n):\n",
    "        # space\n",
    "        for j in range(i):\n",
    "            print(\" \",end = \" \")\n",
    "        # star\n",
    "        for j in range(2*(n-i)-1):\n",
    "            print(\"*\",end = \" \")\n",
    "\n",
    "        print()\n",
    "\n",
    "pattern8(5)"
   ]
  },
  {
   "cell_type": "code",
   "execution_count": 101,
   "id": "7cf7f14a-ce58-4b26-a660-1acd8080b0a1",
   "metadata": {},
   "outputs": [
    {
     "name": "stdout",
     "output_type": "stream",
     "text": [
      "        * \n",
      "      * * * \n",
      "    * * * * * \n",
      "  * * * * * * * \n",
      "* * * * * * * * * \n",
      "* * * * * * * * * \n",
      "  * * * * * * * \n",
      "    * * * * * \n",
      "      * * * \n",
      "        * \n"
     ]
    }
   ],
   "source": [
    "\"\"\"\n",
    "        * \n",
    "      * * * \n",
    "    * * * * * \n",
    "  * * * * * * * \n",
    "* * * * * * * * * \n",
    "* * * * * * * * * \n",
    "  * * * * * * * \n",
    "    * * * * * \n",
    "      * * * \n",
    "        *\n",
    "\"\"\"\n",
    "\n",
    "def pattern9(n):\n",
    "    pattern7(n)\n",
    "    pattern8(n)\n",
    "\n",
    "pattern9(5)"
   ]
  },
  {
   "cell_type": "code",
   "execution_count": 110,
   "id": "e67a61ed-4805-4ecc-89da-d532ba20696a",
   "metadata": {},
   "outputs": [
    {
     "name": "stdout",
     "output_type": "stream",
     "text": [
      "\n",
      "* \n",
      "* * \n",
      "* * * \n",
      "* * * * \n",
      "* * * * * \n",
      "* * * * \n",
      "* * * \n",
      "* * \n",
      "* \n"
     ]
    }
   ],
   "source": [
    "\"\"\"\n",
    "* \n",
    "* * \n",
    "* * * \n",
    "* * * * \n",
    "* * * * * \n",
    "* * * * \n",
    "* * * \n",
    "* * \n",
    "* \n",
    "\"\"\"\n",
    "\n",
    "def pattern10(n):\n",
    "    pattern2(n)\n",
    "    pattern5(n-1)\n",
    "\n",
    "pattern10(5)"
   ]
  },
  {
   "cell_type": "code",
   "execution_count": 112,
   "id": "0e5ecea7-bd21-4010-b1a6-ac393d45e2c6",
   "metadata": {},
   "outputs": [
    {
     "name": "stdout",
     "output_type": "stream",
     "text": [
      "\n",
      "* \n",
      "* * \n",
      "* * * \n",
      "* * * * \n",
      "* * * \n",
      "* * \n",
      "* \n"
     ]
    }
   ],
   "source": [
    "def pattern10_1(n):\n",
    "    for i in range(1,2*n-1):\n",
    "        stars = i\n",
    "        if i > n:\n",
    "            stars = 2*n-i\n",
    "        for j in range(1,stars):\n",
    "            print(\"*\",end = \" \")\n",
    "\n",
    "        print()\n",
    "\n",
    "pattern10_1(5)"
   ]
  },
  {
   "cell_type": "code",
   "execution_count": 118,
   "id": "fe3a8039-1262-4a4a-bb04-2d797f7b0b60",
   "metadata": {},
   "outputs": [
    {
     "name": "stdout",
     "output_type": "stream",
     "text": [
      "\n",
      "0 \n",
      "1 0 \n",
      "0 1 0 \n",
      "1 0 1 0 \n"
     ]
    }
   ],
   "source": [
    "\n",
    "'''\n",
    "0 \n",
    "1 0 \n",
    "0 1 0 \n",
    "1 0 1 0 \n",
    "'''\n",
    "\n",
    "def pattern11(n):\n",
    "    start = 1\n",
    "    for i in range(n):\n",
    "        if (i%2 == 0):\n",
    "            start = 1\n",
    "        else:\n",
    "            start = 0\n",
    "        for j in range(i):\n",
    "            print(start,end = \" \")\n",
    "            start = 1 - start\n",
    "\n",
    "        print()\n",
    "\n",
    "pattern11(5)"
   ]
  }
 ],
 "metadata": {
  "kernelspec": {
   "display_name": "Python 3 (ipykernel)",
   "language": "python",
   "name": "python3"
  },
  "language_info": {
   "codemirror_mode": {
    "name": "ipython",
    "version": 3
   },
   "file_extension": ".py",
   "mimetype": "text/x-python",
   "name": "python",
   "nbconvert_exporter": "python",
   "pygments_lexer": "ipython3",
   "version": "3.11.8"
  }
 },
 "nbformat": 4,
 "nbformat_minor": 5
}
